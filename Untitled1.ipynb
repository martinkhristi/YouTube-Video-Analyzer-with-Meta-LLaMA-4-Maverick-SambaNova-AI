{
  "nbformat": 4,
  "nbformat_minor": 0,
  "metadata": {
    "colab": {
      "provenance": []
    },
    "kernelspec": {
      "name": "python3",
      "display_name": "Python 3"
    },
    "language_info": {
      "name": "python"
    }
  },
  "cells": [
    {
      "cell_type": "code",
      "source": [
        "# World’s Fastest YouTube Video Analyzer with Meta LLaMA-4 Maverick + SambaNova AI 🚀"
      ],
      "metadata": {
        "id": "LGDsnLTk8z4f"
      },
      "execution_count": null,
      "outputs": []
    },
    {
      "cell_type": "markdown",
      "source": [],
      "metadata": {
        "id": "TaoW1Q2O6fhx"
      }
    },
    {
      "cell_type": "code",
      "source": [
        "from youtube_transcript_api import YouTubeTranscriptApi\n",
        "import openai\n",
        "\n",
        "# Initialize SambaNova client\n",
        "client = openai.OpenAI(\n",
        "    api_key=\"SAMBANOVA_API_KEY\",  # <-- Replace with your actual API key\n",
        "    base_url=\"https://api.sambanova.ai/v1\",\n",
        ")\n",
        "\n",
        "# YouTube video URL and ID\n",
        "youtube_url = \"https://youtu.be/CDIRqxF83f8?si=Gjdiav2c1uhAGi3O\"\n",
        "video_id = \"CDIRqxF83f8\"\n",
        "\n",
        "# Get transcript\n",
        "transcript = YouTubeTranscriptApi.get_transcript(video_id)\n",
        "youtube_transcript = \" \".join([t['text'] for t in transcript])\n",
        "\n",
        "# Optional: Fill in video title and description manually or via scraping/YouTube API\n",
        "video_title = \"Understanding the Llama-4 Architecture\"  # ← Edit accordingly\n",
        "video_description = \"This video walks through the key improvements in Meta's Llama-4 model, including transformer optimizations.\"  # ← Edit accordingly\n",
        "video_chapters = \"\"\"\n",
        "0:00 - Introduction\n",
        "1:15 - Embedding Strategy\n",
        "3:42 - Token Sparsity\n",
        "5:30 - Hardware-Aware Optimizations\n",
        "7:10 - Summary & Call to Action\n",
        "\"\"\"  # ← Edit accordingly if available\n",
        "\n",
        "# Strong, structured prompt\n",
        "prompt = f\"\"\"\n",
        "You are an expert AI video analyst. Your task is to analyze the following YouTube video using its metadata and content. Based on the title, description, chapter timestamps, and transcript, provide a comprehensive breakdown in the following format:\n",
        "\n",
        "1. **Main Thesis or Central Claim**\n",
        "   - Clearly identify the creator’s central argument, theme, or the key message of the video.\n",
        "\n",
        "2. **Key Topics Covered**\n",
        "   - List and explain the main subjects, technologies, or examples discussed in the video.\n",
        "   - Mention any relevant AI models, programming languages, tools, research, or real-world applications.\n",
        "   - Include specific references to timestamps or chapters if available.\n",
        "\n",
        "3. **Call to Action or Viewer Engagement**\n",
        "   - Highlight any explicit or implicit requests made to the viewer, such as subscribing, visiting a link, trying a product, joining a discussion, etc.\n",
        "\n",
        "4. **Overall Summary**\n",
        "   - Provide a clear, concise summary of the entire video content in your own words.\n",
        "   - Capture the flow of the video and how ideas are introduced and concluded.\n",
        "   - Ensure the summary is informative and suitable for someone who hasn't seen the video.\n",
        "\n",
        "---\n",
        "\n",
        "**Video Title:** {video_title}\n",
        "**Description:** {video_description}\n",
        "**Chapters:** {video_chapters}\n",
        "\n",
        "**Transcript:**\n",
        "{youtube_transcript}\n",
        "\n",
        "---\n",
        "Generate your analysis now.\n",
        "\"\"\"\n",
        "\n",
        "# Call SambaNova's model\n",
        "response = client.chat.completions.create(\n",
        "    model=\"Llama-4-Maverick-17B-128E-Instruct\",\n",
        "    messages=[{\n",
        "        \"role\": \"user\",\n",
        "        \"content\": [{\"type\": \"text\", \"text\": prompt}]\n",
        "    }],\n",
        "    temperature=0.1,\n",
        "    top_p=0.1\n",
        ")\n",
        "\n",
        "# Output the analysis\n",
        "print(response.choices[0].message.content)"
      ],
      "metadata": {
        "id": "uv8fyorim94J"
      },
      "execution_count": null,
      "outputs": []
    }
  ]
}